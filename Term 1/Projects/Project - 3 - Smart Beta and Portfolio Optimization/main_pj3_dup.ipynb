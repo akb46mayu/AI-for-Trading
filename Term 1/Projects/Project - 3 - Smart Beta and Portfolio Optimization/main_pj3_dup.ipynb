{
 "cells": [
  {
   "cell_type": "code",
   "execution_count": 1,
   "id": "a454dba2",
   "metadata": {},
   "outputs": [
    {
     "data": {
      "text/html": [
       "<script>requirejs.config({paths: { 'plotly': ['https://cdn.plot.ly/plotly-latest.min']},});if(!window.Plotly) {{require(['plotly'],function(plotly) {window.Plotly=plotly;});}}</script>"
      ],
      "text/vnd.plotly.v1+html": [
       "<script>requirejs.config({paths: { 'plotly': ['https://cdn.plot.ly/plotly-latest.min']},});if(!window.Plotly) {{require(['plotly'],function(plotly) {window.Plotly=plotly;});}}</script>"
      ]
     },
     "metadata": {},
     "output_type": "display_data"
    }
   ],
   "source": [
    "import pandas as pd\n",
    "import numpy as np\n",
    "import helper\n",
    "import project_helper\n",
    "import project_tests"
   ]
  },
  {
   "cell_type": "code",
   "execution_count": 2,
   "id": "28e971ad",
   "metadata": {},
   "outputs": [
    {
     "name": "stdout",
     "output_type": "stream",
     "text": [
      "(490737, 6)\n",
      "Index(['Unnamed: 0', 'date', 'ticker', 'adj_close', 'adj_volume', 'dividends'], dtype='object')\n"
     ]
    }
   ],
   "source": [
    "df = pd.read_csv('eod-quotemedia.csv')\n",
    "df.head(10)\n",
    "print(df.shape)\n",
    "print(df.columns)"
   ]
  },
  {
   "cell_type": "code",
   "execution_count": 5,
   "id": "cc63dbc9",
   "metadata": {},
   "outputs": [
    {
     "data": {
      "text/html": [
       "<div>\n",
       "<style scoped>\n",
       "    .dataframe tbody tr th:only-of-type {\n",
       "        vertical-align: middle;\n",
       "    }\n",
       "\n",
       "    .dataframe tbody tr th {\n",
       "        vertical-align: top;\n",
       "    }\n",
       "\n",
       "    .dataframe thead th {\n",
       "        text-align: right;\n",
       "    }\n",
       "</style>\n",
       "<table border=\"1\" class=\"dataframe\">\n",
       "  <thead>\n",
       "    <tr style=\"text-align: right;\">\n",
       "      <th>ticker</th>\n",
       "      <th>AAPL</th>\n",
       "      <th>AMZN</th>\n",
       "      <th>FB</th>\n",
       "    </tr>\n",
       "    <tr>\n",
       "      <th>date</th>\n",
       "      <th></th>\n",
       "      <th></th>\n",
       "      <th></th>\n",
       "    </tr>\n",
       "  </thead>\n",
       "  <tbody>\n",
       "    <tr>\n",
       "      <th>2013-07-01</th>\n",
       "      <td>53.10917319</td>\n",
       "      <td>282.10000000</td>\n",
       "      <td>24.81000000</td>\n",
       "    </tr>\n",
       "    <tr>\n",
       "      <th>2013-07-02</th>\n",
       "      <td>54.31224742</td>\n",
       "      <td>283.73000000</td>\n",
       "      <td>24.41000000</td>\n",
       "    </tr>\n",
       "    <tr>\n",
       "      <th>2013-07-03</th>\n",
       "      <td>54.61204262</td>\n",
       "      <td>284.03000000</td>\n",
       "      <td>24.52000000</td>\n",
       "    </tr>\n",
       "    <tr>\n",
       "      <th>2013-07-05</th>\n",
       "      <td>54.17338125</td>\n",
       "      <td>285.88000000</td>\n",
       "      <td>24.37000000</td>\n",
       "    </tr>\n",
       "    <tr>\n",
       "      <th>2013-07-08</th>\n",
       "      <td>53.86579916</td>\n",
       "      <td>290.59000000</td>\n",
       "      <td>24.71000000</td>\n",
       "    </tr>\n",
       "    <tr>\n",
       "      <th>2013-07-09</th>\n",
       "      <td>54.81320389</td>\n",
       "      <td>291.53000000</td>\n",
       "      <td>25.48000000</td>\n",
       "    </tr>\n",
       "    <tr>\n",
       "      <th>2013-07-10</th>\n",
       "      <td>54.60295791</td>\n",
       "      <td>292.33000000</td>\n",
       "      <td>25.80000000</td>\n",
       "    </tr>\n",
       "    <tr>\n",
       "      <th>2013-07-11</th>\n",
       "      <td>55.45406479</td>\n",
       "      <td>299.66000000</td>\n",
       "      <td>25.81000000</td>\n",
       "    </tr>\n",
       "    <tr>\n",
       "      <th>2013-07-12</th>\n",
       "      <td>55.35309481</td>\n",
       "      <td>307.55000000</td>\n",
       "      <td>25.91000000</td>\n",
       "    </tr>\n",
       "    <tr>\n",
       "      <th>2013-07-15</th>\n",
       "      <td>55.47379158</td>\n",
       "      <td>306.57000000</td>\n",
       "      <td>26.28000000</td>\n",
       "    </tr>\n",
       "    <tr>\n",
       "      <th>2013-07-16</th>\n",
       "      <td>55.83133953</td>\n",
       "      <td>306.87000000</td>\n",
       "      <td>26.32000000</td>\n",
       "    </tr>\n",
       "    <tr>\n",
       "      <th>2013-07-17</th>\n",
       "      <td>55.84626440</td>\n",
       "      <td>308.69000000</td>\n",
       "      <td>26.65000000</td>\n",
       "    </tr>\n",
       "    <tr>\n",
       "      <th>2013-07-18</th>\n",
       "      <td>56.03418797</td>\n",
       "      <td>304.11000000</td>\n",
       "      <td>26.18000000</td>\n",
       "    </tr>\n",
       "    <tr>\n",
       "      <th>2013-07-19</th>\n",
       "      <td>55.15063572</td>\n",
       "      <td>305.23000000</td>\n",
       "      <td>25.88100000</td>\n",
       "    </tr>\n",
       "    <tr>\n",
       "      <th>2013-07-22</th>\n",
       "      <td>55.32713852</td>\n",
       "      <td>303.48000000</td>\n",
       "      <td>26.04500000</td>\n",
       "    </tr>\n",
       "    <tr>\n",
       "      <th>2013-07-23</th>\n",
       "      <td>54.37713815</td>\n",
       "      <td>301.06000000</td>\n",
       "      <td>26.13000000</td>\n",
       "    </tr>\n",
       "    <tr>\n",
       "      <th>2013-07-24</th>\n",
       "      <td>57.17003539</td>\n",
       "      <td>298.94000000</td>\n",
       "      <td>26.51000000</td>\n",
       "    </tr>\n",
       "    <tr>\n",
       "      <th>2013-07-25</th>\n",
       "      <td>56.90917464</td>\n",
       "      <td>303.40000000</td>\n",
       "      <td>34.35900000</td>\n",
       "    </tr>\n",
       "    <tr>\n",
       "      <th>2013-07-26</th>\n",
       "      <td>57.23233050</td>\n",
       "      <td>312.01000000</td>\n",
       "      <td>34.01000000</td>\n",
       "    </tr>\n",
       "    <tr>\n",
       "      <th>2013-07-29</th>\n",
       "      <td>58.11484449</td>\n",
       "      <td>306.10000000</td>\n",
       "      <td>35.43000000</td>\n",
       "    </tr>\n",
       "  </tbody>\n",
       "</table>\n",
       "</div>"
      ],
      "text/plain": [
       "ticker            AAPL         AMZN          FB\n",
       "date                                           \n",
       "2013-07-01 53.10917319 282.10000000 24.81000000\n",
       "2013-07-02 54.31224742 283.73000000 24.41000000\n",
       "2013-07-03 54.61204262 284.03000000 24.52000000\n",
       "2013-07-05 54.17338125 285.88000000 24.37000000\n",
       "2013-07-08 53.86579916 290.59000000 24.71000000\n",
       "2013-07-09 54.81320389 291.53000000 25.48000000\n",
       "2013-07-10 54.60295791 292.33000000 25.80000000\n",
       "2013-07-11 55.45406479 299.66000000 25.81000000\n",
       "2013-07-12 55.35309481 307.55000000 25.91000000\n",
       "2013-07-15 55.47379158 306.57000000 26.28000000\n",
       "2013-07-16 55.83133953 306.87000000 26.32000000\n",
       "2013-07-17 55.84626440 308.69000000 26.65000000\n",
       "2013-07-18 56.03418797 304.11000000 26.18000000\n",
       "2013-07-19 55.15063572 305.23000000 25.88100000\n",
       "2013-07-22 55.32713852 303.48000000 26.04500000\n",
       "2013-07-23 54.37713815 301.06000000 26.13000000\n",
       "2013-07-24 57.17003539 298.94000000 26.51000000\n",
       "2013-07-25 56.90917464 303.40000000 34.35900000\n",
       "2013-07-26 57.23233050 312.01000000 34.01000000\n",
       "2013-07-29 58.11484449 306.10000000 35.43000000"
      ]
     },
     "execution_count": 5,
     "metadata": {},
     "output_type": "execute_result"
    }
   ],
   "source": [
    "percent_top_dollar = 0.2\n",
    "high_volume_symbols = project_helper.large_dollar_volume_stocks(df, 'adj_close', 'adj_volume', percent_top_dollar)\n",
    "df = df[df['ticker'].isin(high_volume_symbols)]\n",
    "\n",
    "close = df.reset_index().pivot(index='date', columns='ticker', values='adj_close')\n",
    "volume = df.reset_index().pivot(index='date', columns='ticker', values='adj_volume')\n",
    "dividends = df.reset_index().pivot(index='date', columns='ticker', values='dividends')\n",
    "close.head(20)"
   ]
  },
  {
   "cell_type": "code",
   "execution_count": 6,
   "id": "b2145b9d",
   "metadata": {},
   "outputs": [
    {
     "data": {
      "application/vnd.plotly.v1+json": {
       "data": [
        {
         "cells": {
          "fill": {
           "color": [
            "silver",
            "white"
           ]
          },
          "font": {
           "size": 13
          },
          "line": {
           "color": "silver"
          },
          "values": [
           [
            "2013-07-01",
            "2013-07-02",
            "2013-07-03",
            "2013-07-05",
            "2013-07-08",
            "2013-07-09",
            "2013-07-10",
            "2013-07-11",
            "2013-07-12",
            "2013-07-15",
            "..."
           ],
           [
            "53.109",
            "54.312",
            "54.612",
            "54.173",
            "53.866",
            "54.813",
            "54.603",
            "55.454",
            "55.353",
            "55.474",
            "..."
           ],
           [
            "282.100",
            "283.730",
            "284.030",
            "285.880",
            "290.590",
            "291.530",
            "292.330",
            "299.660",
            "307.550",
            "306.570",
            "..."
           ],
           [
            "24.810",
            "24.410",
            "24.520",
            "24.370",
            "24.710",
            "25.480",
            "25.800",
            "25.810",
            "25.910",
            "26.280",
            "..."
           ]
          ]
         },
         "columnwidth": [
          1,
          3
         ],
         "header": {
          "fill": {
           "color": "silver"
          },
          "font": {
           "size": 13
          },
          "line": {
           "color": "silver"
          },
          "values": [
           "",
           "AAPL",
           "AMZN",
           "FB"
          ]
         },
         "type": "table"
        }
       ],
       "layout": {}
      },
      "text/html": [
       "<div id=\"d27f8b7e-a75a-4c71-aba9-7e26adf4cf12\" style=\"height: 525px; width: 100%;\" class=\"plotly-graph-div\"></div><script type=\"text/javascript\">require([\"plotly\"], function(Plotly) { window.PLOTLYENV=window.PLOTLYENV || {};window.PLOTLYENV.BASE_URL=\"https://plot.ly\";Plotly.newPlot(\"d27f8b7e-a75a-4c71-aba9-7e26adf4cf12\", [{\"type\": \"table\", \"columnwidth\": [1, 3], \"header\": {\"values\": [\"\", \"AAPL\", \"AMZN\", \"FB\"], \"line\": {\"color\": \"silver\"}, \"fill\": {\"color\": \"silver\"}, \"font\": {\"size\": 13}}, \"cells\": {\"values\": [[\"2013-07-01\", \"2013-07-02\", \"2013-07-03\", \"2013-07-05\", \"2013-07-08\", \"2013-07-09\", \"2013-07-10\", \"2013-07-11\", \"2013-07-12\", \"2013-07-15\", \"...\"], [\"53.109\", \"54.312\", \"54.612\", \"54.173\", \"53.866\", \"54.813\", \"54.603\", \"55.454\", \"55.353\", \"55.474\", \"...\"], [\"282.100\", \"283.730\", \"284.030\", \"285.880\", \"290.590\", \"291.530\", \"292.330\", \"299.660\", \"307.550\", \"306.570\", \"...\"], [\"24.810\", \"24.410\", \"24.520\", \"24.370\", \"24.710\", \"25.480\", \"25.800\", \"25.810\", \"25.910\", \"26.280\", \"...\"]], \"line\": {\"color\": \"silver\"}, \"fill\": {\"color\": [\"silver\", \"white\"]}, \"font\": {\"size\": 13}}}], {}, {\"showLink\": false, \"linkText\": \"Export to plot.ly\", \"displayModeBar\": false})});</script>"
      ],
      "text/vnd.plotly.v1+html": [
       "<div id=\"d27f8b7e-a75a-4c71-aba9-7e26adf4cf12\" style=\"height: 525px; width: 100%;\" class=\"plotly-graph-div\"></div><script type=\"text/javascript\">require([\"plotly\"], function(Plotly) { window.PLOTLYENV=window.PLOTLYENV || {};window.PLOTLYENV.BASE_URL=\"https://plot.ly\";Plotly.newPlot(\"d27f8b7e-a75a-4c71-aba9-7e26adf4cf12\", [{\"type\": \"table\", \"columnwidth\": [1, 3], \"header\": {\"values\": [\"\", \"AAPL\", \"AMZN\", \"FB\"], \"line\": {\"color\": \"silver\"}, \"fill\": {\"color\": \"silver\"}, \"font\": {\"size\": 13}}, \"cells\": {\"values\": [[\"2013-07-01\", \"2013-07-02\", \"2013-07-03\", \"2013-07-05\", \"2013-07-08\", \"2013-07-09\", \"2013-07-10\", \"2013-07-11\", \"2013-07-12\", \"2013-07-15\", \"...\"], [\"53.109\", \"54.312\", \"54.612\", \"54.173\", \"53.866\", \"54.813\", \"54.603\", \"55.454\", \"55.353\", \"55.474\", \"...\"], [\"282.100\", \"283.730\", \"284.030\", \"285.880\", \"290.590\", \"291.530\", \"292.330\", \"299.660\", \"307.550\", \"306.570\", \"...\"], [\"24.810\", \"24.410\", \"24.520\", \"24.370\", \"24.710\", \"25.480\", \"25.800\", \"25.810\", \"25.910\", \"26.280\", \"...\"]], \"line\": {\"color\": \"silver\"}, \"fill\": {\"color\": [\"silver\", \"white\"]}, \"font\": {\"size\": 13}}}], {}, {\"showLink\": false, \"linkText\": \"Export to plot.ly\", \"displayModeBar\": false})});</script>"
      ]
     },
     "metadata": {},
     "output_type": "display_data"
    }
   ],
   "source": [
    "project_helper.print_dataframe(close)"
   ]
  },
  {
   "cell_type": "code",
   "execution_count": 13,
   "id": "3ddc062b",
   "metadata": {},
   "outputs": [
    {
     "name": "stdout",
     "output_type": "stream",
     "text": [
      "Tests Passed\n"
     ]
    }
   ],
   "source": [
    "def generate_dollar_volume_weights(close, volume):\n",
    "    \"\"\"\n",
    "    Generate dollar volume weights.\n",
    "\n",
    "    Parameters\n",
    "    ----------\n",
    "    close : DataFrame\n",
    "        Close price for each ticker and date\n",
    "    volume : str\n",
    "        Volume for each ticker and date\n",
    "\n",
    "    Returns\n",
    "    -------\n",
    "    dollar_volume_weights : DataFrame\n",
    "        The dollar volume weights for each ticker and date\n",
    "    \"\"\"\n",
    "    assert close.index.equals(volume.index)\n",
    "    assert close.columns.equals(volume.columns)\n",
    "    \n",
    "    #TODO: Implement function\n",
    "    # create dollar_volume\n",
    "    dollar_volume = close * volume\n",
    "    \n",
    "    # Normalization\n",
    "    dollar_vol_weights = dollar_volume.divide(dollar_volume.sum(axis=1), axis='index')\n",
    "\n",
    "    return dollar_vol_weights\n",
    "\n",
    "project_tests.test_generate_dollar_volume_weights(generate_dollar_volume_weights)"
   ]
  },
  {
   "cell_type": "code",
   "execution_count": 27,
   "id": "13c921eb",
   "metadata": {},
   "outputs": [
    {
     "name": "stdout",
     "output_type": "stream",
     "text": [
      "ticker           AAPL       AMZN         FB\n",
      "date                                       \n",
      "2013-07-01 0.00000000 0.00000000 0.00000000\n",
      "2013-07-02 0.00000000 0.00000000 0.00000000\n",
      "2013-07-03 0.00000000 0.00000000 0.00000000\n",
      "2013-07-05 0.00000000 0.00000000 0.00000000\n",
      "2013-07-08 0.00000000 0.00000000 0.00000000\n",
      "ticker           AAPL       AMZN         FB\n",
      "date                                       \n",
      "2013-07-01 0.00000000 0.00000000 0.00000000\n",
      "2013-07-02 0.00000000 0.00000000 0.00000000\n",
      "2013-07-03 0.00000000 0.00000000 0.00000000\n",
      "2013-07-05 0.00000000 0.00000000 0.00000000\n",
      "2013-07-08 0.00000000 0.00000000 0.00000000\n"
     ]
    },
    {
     "data": {
      "text/html": [
       "The graph for ETF Weights is too large. You can view it <a href=\"graphs/ETFWeights.html\" target=\"_blank\">here</a>."
      ],
      "text/plain": [
       "<IPython.core.display.HTML object>"
      ]
     },
     "metadata": {},
     "output_type": "display_data"
    }
   ],
   "source": [
    "etf_weights = calculate_dividend_weights(dividends)\n",
    "project_helper.plot_weights(etf_weights, 'ETF Weights')"
   ]
  },
  {
   "cell_type": "code",
   "execution_count": 16,
   "id": "289af91f",
   "metadata": {},
   "outputs": [
    {
     "name": "stdout",
     "output_type": "stream",
     "text": [
      "                  QOI       MKDD       KZVF\n",
      "2006-09-25 0.00000000 0.00000000 0.00000000\n",
      "2006-09-26 0.00000000 0.00000000 0.10000000\n",
      "2006-09-27 0.00000000 1.00000000 0.30000000\n",
      "2006-09-28 0.00000000 0.20000000 0.00000000\n",
      "                  QOI       MKDD       KZVF\n",
      "2006-09-25 0.00000000 0.00000000 0.00000000\n",
      "2006-09-26 0.00000000 0.00000000 0.10000000\n",
      "2006-09-27 0.00000000 1.00000000 0.40000000\n",
      "2006-09-28 0.00000000 1.20000000 0.40000000\n",
      "Tests Passed\n"
     ]
    }
   ],
   "source": [
    "def calculate_dividend_weights(dividends):\n",
    "    \"\"\"\n",
    "    Calculate dividend weights.\n",
    "\n",
    "    Parameters\n",
    "    ----------\n",
    "    dividends : DataFrame\n",
    "        Dividend for each stock and date\n",
    "\n",
    "    Returns\n",
    "    -------\n",
    "    dividend_weights : DataFrame\n",
    "        Weights for each stock and date\n",
    "    \"\"\"\n",
    "    #TODO: Implement function\n",
    "    print(dividends.head())\n",
    "    \n",
    "    # cumsum along column\n",
    "    cum_sum_dividend = dividends.cumsum(axis=0)\n",
    "    print(cum_sum_dividend.head())\n",
    "    \n",
    "    # normalize by dividing by cum_sum_dividend's row sum\n",
    "    dividend_weights = cum_sum_dividend.divide(cum_sum_dividend.sum(axis=1), axis='index')\n",
    "    \n",
    "    return dividend_weights\n",
    "\n",
    "project_tests.test_calculate_dividend_weights(calculate_dividend_weights)"
   ]
  },
  {
   "cell_type": "code",
   "execution_count": 20,
   "id": "7cf4ae20",
   "metadata": {},
   "outputs": [
    {
     "name": "stdout",
     "output_type": "stream",
     "text": [
      "(1009, 3)\n",
      "Tests Passed\n"
     ]
    }
   ],
   "source": [
    "def generate_returns(prices):\n",
    "    \"\"\"\n",
    "    Generate returns for ticker and date.\n",
    "\n",
    "    Parameters\n",
    "    ----------\n",
    "    prices : DataFrame\n",
    "        Price for each ticker and date\n",
    "\n",
    "    Returns\n",
    "    -------\n",
    "    returns : Dataframe\n",
    "        The returns for each ticker and date\n",
    "    \"\"\"\n",
    "    #TODO: Implement function\n",
    "    \n",
    "    # returns = Pt/Pt-1 -1\n",
    "    returns = prices/prices.shift(1) -1\n",
    "\n",
    "    return returns\n",
    "\n",
    "print(generate_returns(close).shape)\n",
    "project_tests.test_generate_returns(generate_returns)"
   ]
  },
  {
   "cell_type": "code",
   "execution_count": 18,
   "id": "a342450f",
   "metadata": {},
   "outputs": [
    {
     "data": {
      "text/html": [
       "The graph for Close Returns is too large. You can view it <a href=\"graphs/CloseReturns.html\" target=\"_blank\">here</a>."
      ],
      "text/plain": [
       "<IPython.core.display.HTML object>"
      ]
     },
     "metadata": {},
     "output_type": "display_data"
    }
   ],
   "source": [
    "returns = generate_returns(close)\n",
    "project_helper.plot_returns(returns, 'Close Returns')"
   ]
  },
  {
   "cell_type": "code",
   "execution_count": 21,
   "id": "b45c71e0",
   "metadata": {},
   "outputs": [
    {
     "name": "stdout",
     "output_type": "stream",
     "text": [
      "Tests Passed\n"
     ]
    }
   ],
   "source": [
    "def generate_weighted_returns(returns, weights):\n",
    "    \"\"\"\n",
    "    Generate weighted returns.\n",
    "\n",
    "    Parameters\n",
    "    ----------\n",
    "    returns : DataFrame\n",
    "        Returns for each ticker and date\n",
    "    weights : DataFrame\n",
    "        Weights for each ticker and date\n",
    "\n",
    "    Returns\n",
    "    -------\n",
    "    weighted_returns : DataFrame\n",
    "        Weighted returns for each ticker and date\n",
    "    \"\"\"\n",
    "    assert returns.index.equals(weights.index)\n",
    "    assert returns.columns.equals(weights.columns)\n",
    "    \n",
    "    #TODO: Implement function\n",
    "    \n",
    "    # simply multiply returns and weights for computing weighted returns\n",
    "    \n",
    "    weighted_returns = returns * weights\n",
    "\n",
    "    return weighted_returns\n",
    "\n",
    "project_tests.test_generate_weighted_returns(generate_weighted_returns)"
   ]
  },
  {
   "cell_type": "code",
   "execution_count": 36,
   "id": "ace4dae7",
   "metadata": {},
   "outputs": [
    {
     "name": "stdout",
     "output_type": "stream",
     "text": [
      "   apple  bana\n",
      "0      1     2\n",
      "1      4     5\n",
      "2      9    10\n",
      "3     16    17\n"
     ]
    }
   ],
   "source": [
    "\n",
    "\n",
    "# Import pandas library \n",
    "import pandas as pd \n",
    "  \n",
    "# initialize list elements \n",
    "data = {'apple':[1,3,5,7], 'bana':[2,3,5,7]}\n",
    "  \n",
    "# Create the pandas DataFrame with column name is provided explicitly \n",
    "df3 = pd.DataFrame(data) \n",
    "res = df3.cumsum(axis=0)\n",
    "print(res)"
   ]
  },
  {
   "cell_type": "code",
   "execution_count": 28,
   "id": "ed81702f",
   "metadata": {},
   "outputs": [
    {
     "data": {
      "text/html": [
       "The graph for Index Returns is too large. You can view it <a href=\"graphs/IndexReturns.html\" target=\"_blank\">here</a>."
      ],
      "text/plain": [
       "<IPython.core.display.HTML object>"
      ]
     },
     "metadata": {},
     "output_type": "display_data"
    },
    {
     "data": {
      "text/html": [
       "The graph for ETF Returns is too large. You can view it <a href=\"graphs/ETFReturns.html\" target=\"_blank\">here</a>."
      ],
      "text/plain": [
       "<IPython.core.display.HTML object>"
      ]
     },
     "metadata": {},
     "output_type": "display_data"
    }
   ],
   "source": [
    "index_weighted_returns = generate_weighted_returns(returns, index_weights)\n",
    "etf_weighted_returns = generate_weighted_returns(returns, etf_weights)\n",
    "project_helper.plot_returns(index_weighted_returns, 'Index Returns')\n",
    "project_helper.plot_returns(etf_weighted_returns, 'ETF Returns')"
   ]
  }
 ],
 "metadata": {
  "kernelspec": {
   "display_name": "Python 3",
   "language": "python",
   "name": "python3"
  },
  "language_info": {
   "codemirror_mode": {
    "name": "ipython",
    "version": 3
   },
   "file_extension": ".py",
   "mimetype": "text/x-python",
   "name": "python",
   "nbconvert_exporter": "python",
   "pygments_lexer": "ipython3",
   "version": "3.6.13"
  }
 },
 "nbformat": 4,
 "nbformat_minor": 5
}
