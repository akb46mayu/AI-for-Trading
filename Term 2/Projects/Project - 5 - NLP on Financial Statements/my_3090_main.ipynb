{
 "cells": [
  {
   "cell_type": "code",
   "execution_count": 1,
   "id": "c3c4a455",
   "metadata": {},
   "outputs": [],
   "source": [
    "import nltk\n",
    "import numpy as np\n",
    "import pandas as pd\n",
    "import pickle\n",
    "import pprint\n",
    "import project_helper\n",
    "import project_tests\n",
    "\n",
    "from tqdm import tqdm"
   ]
  },
  {
   "cell_type": "code",
   "execution_count": 2,
   "id": "a54ff89e",
   "metadata": {},
   "outputs": [
    {
     "name": "stdout",
     "output_type": "stream",
     "text": [
      "[nltk_data] Downloading package stopwords to\n",
      "[nltk_data]     /home/miku3090/nltk_data...\n",
      "[nltk_data]   Package stopwords is already up-to-date!\n",
      "[nltk_data] Downloading package wordnet to /home/miku3090/nltk_data...\n",
      "[nltk_data]   Package wordnet is already up-to-date!\n"
     ]
    },
    {
     "data": {
      "text/plain": [
       "True"
      ]
     },
     "execution_count": 2,
     "metadata": {},
     "output_type": "execute_result"
    }
   ],
   "source": [
    "nltk.download('stopwords')\n",
    "nltk.download('wordnet')"
   ]
  },
  {
   "cell_type": "code",
   "execution_count": 3,
   "id": "bffb1691",
   "metadata": {},
   "outputs": [],
   "source": [
    "cik_lookup = {\n",
    "    'AMZN': '0001018724',\n",
    "    'BMY': '0000014272',   \n",
    "}\n",
    "\n",
    "additional_cik = {\n",
    "    'AEP': '0000004904',\n",
    "    'AXP': '0000004962',\n",
    "    'BA': '0000012927', \n",
    "    'BK': '0001390777',\n",
    "    'CAT': '0000018230',\n",
    "    'DE': '0000315189',\n",
    "    'DIS': '0001001039',\n",
    "    'DTE': '0000936340',\n",
    "    'ED': '0001047862',\n",
    "    'EMR': '0000032604',\n",
    "    'ETN': '0001551182',\n",
    "    'GE': '0000040545',\n",
    "    'IBM': '0000051143',\n",
    "    'IP': '0000051434',\n",
    "    'JNJ': '0000200406',\n",
    "    'KO': '0000021344',\n",
    "    'LLY': '0000059478',\n",
    "    'MCD': '0000063908',\n",
    "    'MO': '0000764180',\n",
    "    'MRK': '0000310158',\n",
    "    'MRO': '0000101778',\n",
    "    'PCG': '0001004980',\n",
    "    'PEP': '0000077476',\n",
    "    'PFE': '0000078003',\n",
    "    'PG': '0000080424',\n",
    "    'PNR': '0000077360',\n",
    "    'SYY': '0000096021',\n",
    "    'TXN': '0000097476',\n",
    "    'UTX': '0000101829',\n",
    "    'WFC': '0000072971',\n",
    "    'WMT': '0000104169',\n",
    "    'WY': '0000106535',\n",
    "    'XOM': '0000034088'}"
   ]
  },
  {
   "cell_type": "code",
   "execution_count": 4,
   "id": "e265b96f",
   "metadata": {},
   "outputs": [],
   "source": [
    "sec_api = project_helper.SecAPI()"
   ]
  },
  {
   "cell_type": "code",
   "execution_count": 9,
   "id": "2e6d90b9",
   "metadata": {},
   "outputs": [
    {
     "name": "stdout",
     "output_type": "stream",
     "text": [
      "Collecting beautifulsoup4\n",
      "  Using cached beautifulsoup4-4.12.2-py3-none-any.whl (142 kB)\n",
      "Collecting soupsieve>1.2\n",
      "  Downloading soupsieve-2.3.2.post1-py3-none-any.whl (37 kB)\n",
      "Installing collected packages: soupsieve, beautifulsoup4\n",
      "Successfully installed beautifulsoup4-4.12.2 soupsieve-2.3.2.post1\n"
     ]
    }
   ],
   "source": [
    "! pip install beautifulsoup4"
   ]
  },
  {
   "cell_type": "code",
   "execution_count": 20,
   "id": "e2adfbd2",
   "metadata": {},
   "outputs": [],
   "source": [
    "from bs4 import BeautifulSoup\n",
    "\n",
    "def get_sec_data(cik, doc_type, start=0, count=60):\n",
    "    newest_pricing_data = pd.to_datetime('2018-01-01')\n",
    "    rss_url = 'https://www.sec.gov/cgi-bin/browse-edgar?action=getcompany' \\\n",
    "        '&CIK={}&type={}&start={}&count={}&owner=exclude&output=atom' \\\n",
    "        .format(cik, doc_type, start, count)\n",
    "    sec_data = sec_api.get(rss_url)\n",
    "    print('sec_data', sec_data)\n",
    "    feed = BeautifulSoup(sec_data.encode('ascii')).feed\n",
    "    print('feed', feed)\n",
    "    entries = [\n",
    "        (\n",
    "            entry.content.find('filing-href').getText(),\n",
    "            entry.content.find('filing-type').getText(),\n",
    "            entry.content.find('filing-date').getText())\n",
    "        for entry in feed.find_all('entry', recursive=False)\n",
    "        if pd.to_datetime(entry.content.find('filing-date').getText()) <= newest_pricing_data]\n",
    "\n",
    "    return entries"
   ]
  },
  {
   "cell_type": "code",
   "execution_count": 5,
   "id": "cad24d37",
   "metadata": {},
   "outputs": [],
   "source": [
    "from bs4 import BeautifulSoup\n",
    "\n",
    "def get_sec_data_stored(sec_data_path, doc_type):\n",
    "    newest_pricing_data = pd.to_datetime('2018-01-01')\n",
    "    with open(sec_data_path, 'r') as f:\n",
    "        sec_data = f.read()\n",
    "    feed = BeautifulSoup(sec_data.encode('ascii')).feed\n",
    "#     print(feed)\n",
    "    entries = [\n",
    "        (\n",
    "            entry.content.find('filing-href').getText(),\n",
    "            entry.content.find('filing-type').getText(),\n",
    "            entry.content.find('filing-date').getText())\n",
    "        for entry in feed.find_all('entry', recursive=False)\n",
    "        if pd.to_datetime(entry.content.find('filing-date').getText()) <= newest_pricing_data]\n",
    "\n",
    "    return entries\n"
   ]
  },
  {
   "cell_type": "code",
   "execution_count": 6,
   "id": "826564f5",
   "metadata": {},
   "outputs": [
    {
     "name": "stdout",
     "output_type": "stream",
     "text": [
      "[('https://www.sec.gov/Archives/edgar/data/1018724/000101872417000011/0001018724-17-000011-index.htm',\n",
      "  '10-K',\n",
      "  '2017-02-10'),\n",
      " ('https://www.sec.gov/Archives/edgar/data/1018724/000101872416000172/0001018724-16-000172-index.htm',\n",
      "  '10-K',\n",
      "  '2016-01-29'),\n",
      " ('https://www.sec.gov/Archives/edgar/data/1018724/000101872415000006/0001018724-15-000006-index.htm',\n",
      "  '10-K',\n",
      "  '2015-01-30'),\n",
      " ('https://www.sec.gov/Archives/edgar/data/1018724/000101872414000006/0001018724-14-000006-index.htm',\n",
      "  '10-K',\n",
      "  '2014-01-31')]\n"
     ]
    },
    {
     "name": "stderr",
     "output_type": "stream",
     "text": [
      "/home/miku3090/anaconda3/envs/ai_trading_nlp/lib/python3.6/site-packages/bs4/builder/__init__.py:546: XMLParsedAsHTMLWarning: It looks like you're parsing an XML document using an HTML parser. If this really is an HTML document (maybe it's XHTML?), you can ignore or filter this warning. If it's XML, you should know that using an XML parser will be more reliable. To parse this document as XML, make sure you have the lxml package installed, and pass the keyword argument `features=\"xml\"` into the BeautifulSoup constructor.\n",
      "  XMLParsedAsHTMLWarning.MESSAGE, XMLParsedAsHTMLWarning\n"
     ]
    }
   ],
   "source": [
    "example_ticker = 'AMZN'\n",
    "sec_data_path = 'sec_feed.txt'\n",
    "sec_data = {}\n",
    "sec_data[example_ticker] = get_sec_data_stored(sec_data_path, '10-K')\n",
    "pprint.pprint(sec_data[example_ticker][:5])\n",
    "# pprint.pprint(sec_data[example_ticker][:5])"
   ]
  },
  {
   "cell_type": "code",
   "execution_count": 7,
   "id": "0fd5809a",
   "metadata": {},
   "outputs": [],
   "source": [
    "file_url = 'https://www.sec.gov/Archives/edgar/data/1018724/000101872417000011/0001018724-17-000011.txt'"
   ]
  },
  {
   "cell_type": "code",
   "execution_count": 8,
   "id": "95c29c27",
   "metadata": {},
   "outputs": [],
   "source": [
    "with open('sec_10ks.txt', 'r') as f:\n",
    "    res = f.read()"
   ]
  },
  {
   "cell_type": "code",
   "execution_count": 9,
   "id": "6db2acc5",
   "metadata": {},
   "outputs": [],
   "source": [
    "import re\n",
    "\n",
    "\n",
    "def get_documents(text):\n",
    "    \"\"\"\n",
    "    Extract the documents from the text\n",
    "\n",
    "    Parameters\n",
    "    ----------\n",
    "    text : str\n",
    "        The text with the document strings inside\n",
    "\n",
    "    Returns\n",
    "    -------\n",
    "    extracted_docs : list of str\n",
    "        The document strings found in `text`\n",
    "    \"\"\"\n",
    "    \n",
    "    # TODO: Implement\n",
    "    final_docs = []\n",
    "    start_regex = re.compile(r'<DOCUMENT>')\n",
    "    end_regex = re.compile(r'</DOCUMENT>')\n",
    "    \n",
    "    start_idx = [x.end() for x in re.finditer(start_regex, text)]\n",
    "    end_idx = [x.start() for x in re.finditer(end_regex, text)]\n",
    "    \n",
    "    for start_i, end_i in zip(start_idx, end_idx):\n",
    "        final_docs.append(text[start_i:end_i])\n",
    "    \n",
    "    \n",
    "    return final_docs"
   ]
  },
  {
   "cell_type": "code",
   "execution_count": 18,
   "id": "c4eefa94",
   "metadata": {},
   "outputs": [
    {
     "name": "stdout",
     "output_type": "stream",
     "text": [
      "\n",
      "<TYPE>EX-31.2\n",
      "<SEQUENCE>6\n",
      "<FILENAME>amzn-20161231xex312.htm\n",
      "<DESCRIPTION>SECTION 302 CFO CERTIFICATION\n",
      "<TEXT>\n",
      "<!DOCTYPE html PUBLIC \"-//W3C//DTD HTML 4.01 Transitional//EN\" \"http://www.w3.org/TR/html4/loose.dtd\">\n",
      "<html>\n",
      "\t<head>\n",
      "\t\t<!-- Document created using Wdesk 1 -->\n",
      "\t\t<!-- Copyright 2017 Workiva -->\n",
      "\t\t<title>Exhibit</title>\n",
      "\t</head>\n",
      "\t<body style=\"font-family:Times New Roman;font-size:10pt;\">\n",
      "<div><a name=\"s75FABEEA3E4C5F7189926BA2A043DB33\"></a></div><div><div style=\"line-height:120%;font-size:10pt;\"><font style=\"font-family:inherit;font-size:10pt;\"><br></font></div></div><div><br></div><div style=\"line-height:120%;text-align:right;font-size:10pt;\"><font style=\"font-family:inherit;font-size:10pt;font-weight:bold;\">Exhibit 31.2</font></div><div style=\"line-height:120%;padding-top:12px;text-align:center;font-size:10pt;\"><font style=\"font-family:inherit;font-size:10pt;font-weight:bold;\">CERTIFICATIONS</font></div><div style=\"line-height:120%;padding-top:18px;text-align:left;font-size:10pt;\"><font style=\"font-family:inherit;font-size:10pt;\">I, Brian T. Olsavsky, certify that: </font></div><div style=\"line-height:120%;padding-top:6px;text-align:left;text-indent:32px;font-size:10pt;\"><font style=\"font-family:inherit;font-size:10pt;\">1. I have reviewed this Form 10-K of Amazon.com, Inc.; </font></div><div style=\"line-height:120%;padding-top:6px;text-align:left;text-indent:32px;font-size:10pt;\"><font style=\"font-family:inherit;font-size:10pt;\">2. Based on my knowledge, this report does not contain any untrue statement of a material fact or omit to state a material fact necessary to make the statements made, in light of the circumstances under which such statements were made, not misleading with respect to the period covered by this report; </font></div><div style=\"line-height:120%;padding-top:12px;text-align:left;text-indent:32px;font-size:10pt;\"><font style=\"font-family:inherit;font-size:10pt;\">3. Based on my knowledge, the financial statements, and other financial information included in this report, fairly present in all material respects the financial condition, results of operations and cash flows of the registrant as of, and for, the periods presented in this report; </font></div><div style=\"line-height:120%;padding-top:12px;text-align:left;text-indent:32px;font-size:10pt;\"><font style=\"font-family:inherit;font-size:10pt;\">4. The registrant&#8217;s other certifying officer(s) and I are responsible for establishing and maintaining disclosure controls and procedures (as defined in Exchange Act Rules 13a-15(e) and 15d-15(e)) and internal control over financial reporting (as defined in Exchange Act Rules 13a-15(f) and 15d-15(f)) for the registrant and have: </font></div><div style=\"line-height:120%;padding-top:6px;text-align:left;padding-left:32px;text-indent:32px;font-size:10pt;\"><font style=\"font-family:inherit;font-size:10pt;\">(a) Designed such disclosure controls and procedures, or caused such disclosure controls and procedures to be designed under our supervision, to ensure that material information relating to the registrant, including its consolidated subsidiaries, is made known to us by others within those entities, particularly during the period in which this report is being prepared; </font></div><div style=\"line-height:120%;padding-top:6px;text-align:left;padding-left:32px;text-indent:32px;font-size:10pt;\"><font style=\"font-family:inherit;font-size:10pt;\">(b) Designed such internal control over financial reporting, or caused such internal control over financial reporting to be designed under our supervision, to provide reasonable assurance regarding the reliability of financial reporting and the preparation of financial statements for external purposes in accordance with generally accepted accounting principles; </font></div><div style=\"line-height:120%;padding-top:6px;text-align:left;padding-left:32px;text-indent:32px;font-size:10pt;\"><font style=\"font-family:inherit;font-size:10pt;\">(c) Evaluated the effectiveness of the registrant&#8217;s disclosure controls and procedures and presented in this report our conclusions about the effectiveness of the disclosure controls and procedures, as of the end of the period covered by this report based on such evaluation; and </font></div><div style=\"line-height:120%;padding-top:6px;text-align:left;padding-left:32px;text-indent:32px;font-size:10pt;\"><font style=\"font-family:inherit;font-size:10pt;\">(d) Disclosed in this report any change in the registrant&#8217;s internal control over financial reporting that occurred during the registrant&#8217;s most recent fiscal quarter (the registrant&#8217;s fourth fiscal quarter in the case of an annual report) that has materially affected, or is reasonably likely to materially affect, the registrant&#8217;s internal control over financial reporting; and </font></div><div style=\"line-height:120%;padding-top:12px;text-align:left;text-indent:32px;font-size:10pt;\"><font style=\"font-family:inherit;font-size:10pt;\">5. The registrant&#8217;s other certifying officer(s) and I have disclosed, based on our most recent evaluation of internal control over financial reporting, to the registrant&#8217;s auditors and the audit committee of the registrant&#8217;s board of directors (or persons performing the equivalent functions): </font></div><div style=\"line-height:120%;padding-top:6px;text-align:left;padding-left:32px;text-indent:32px;font-size:10pt;\"><font style=\"font-family:inherit;font-size:10pt;\">(a) All significant deficiencies and material weaknesses in the design or operation of internal control over financial reporting which are reasonably likely to adversely affect the registrant&#8217;s ability to record, process, summarize and report financial information; and </font></div><div style=\"line-height:120%;padding-top:6px;text-align:left;padding-left:32px;text-indent:32px;font-size:10pt;\"><font style=\"font-family:inherit;font-size:10pt;\">(b) Any fraud, whether or not material, that involves management or other employees who have a significant role in the registrant&#8217;s internal control over financial reporting. </font></div><div style=\"line-height:120%;font-size:9pt;\"><font style=\"font-family:inherit;font-size:9pt;\">&#160;</font></div><div style=\"line-height:120%;font-size:10pt;\"><div style=\"padding-left:0px;text-indent:0px;line-height:normal;padding-top:10px;\"><table cellpadding=\"0\" cellspacing=\"0\" style=\"font-family:Times New Roman;font-size:10pt;width:100%;border-collapse:collapse;text-align:left;\"><tr><td colspan=\"2\"></td></tr><tr><td style=\"width:56%;\"></td><td style=\"width:44%;\"></td></tr><tr><td style=\"vertical-align:bottom;padding-left:2px;padding-top:2px;padding-bottom:2px;padding-right:2px;\"><div style=\"overflow:hidden;font-size:10pt;\"><font style=\"font-family:inherit;font-size:10pt;\">&#160;</font></div></td><td style=\"vertical-align:top;border-bottom:1px solid #000000;padding-left:2px;padding-top:2px;padding-bottom:2px;padding-right:2px;\"><div style=\"text-align:center;font-size:10pt;\"><font style=\"font-family:inherit;font-size:10pt;\">/s/ Brian T. Olsavsky</font></div></td></tr><tr><td style=\"vertical-align:bottom;padding-left:2px;padding-top:2px;padding-bottom:2px;padding-right:2px;\"><div style=\"overflow:hidden;font-size:10pt;\"><font style=\"font-family:inherit;font-size:10pt;\">&#160;</font></div></td><td style=\"vertical-align:bottom;padding-left:2px;padding-top:2px;padding-bottom:2px;padding-right:2px;\"><div style=\"text-align:center;font-size:10pt;\"><font style=\"font-family:inherit;font-size:10pt;font-weight:bold;\">Brian T. Olsavsky</font></div></td></tr><tr><td style=\"vertical-align:bottom;padding-left:2px;padding-top:2px;padding-bottom:2px;padding-right:2px;\"><div style=\"overflow:hidden;font-size:10pt;\"><font style=\"font-family:inherit;font-size:10pt;\">&#160;</font></div></td><td style=\"vertical-align:bottom;padding-left:2px;padding-top:2px;padding-bottom:2px;padding-right:2px;\"><div style=\"text-align:center;font-size:10pt;\"><font style=\"font-family:inherit;font-size:10pt;font-weight:bold;\">Senior Vice President and</font></div><div style=\"text-align:center;font-size:10pt;\"><font style=\"font-family:inherit;font-size:10pt;font-weight:bold;\">Chief Financial Officer</font></div></td></tr><tr><td style=\"vertical-align:bottom;padding-left:2px;padding-top:2px;padding-bottom:2px;padding-right:2px;\"><div style=\"overflow:hidden;font-size:10pt;\"><font style=\"font-family:inherit;font-size:10pt;\">&#160;</font></div></td><td style=\"vertical-align:bottom;padding-left:2px;padding-top:2px;padding-bottom:2px;padding-right:2px;\"><div style=\"text-align:center;font-size:10pt;\"><font style=\"font-family:inherit;font-size:10pt;font-weight:bold;\">(Principal Financial Officer)</font></div></td></tr></table></div></div><div style=\"line-height:120%;padding-top:12px;font-size:10pt;\"><font style=\"font-family:inherit;font-size:10pt;\">Date: </font><font style=\"font-family:inherit;font-size:10pt;\">February&#160;9, 2017</font><font style=\"font-family:inherit;font-size:10pt;\">&#32;</font></div><div><br></div><div style=\"text-align:center;\"><div style=\"line-height:120%;font-size:10pt;\"><font style=\"font-family:inherit;font-size:10pt;\"><br></font></div></div>\t</body>\n",
      "</html>\n",
      "</TEXT>\n",
      "\n"
     ]
    }
   ],
   "source": [
    "doc_res = get_documents(res)\n",
    "print(doc_res[5])"
   ]
  },
  {
   "cell_type": "code",
   "execution_count": null,
   "id": "8aa7289f",
   "metadata": {},
   "outputs": [],
   "source": []
  },
  {
   "cell_type": "code",
   "execution_count": 11,
   "id": "84328be1",
   "metadata": {},
   "outputs": [],
   "source": [
    "def remove_html_tags(text):\n",
    "    text = BeautifulSoup(text, 'html.parser').get_text()\n",
    "    \n",
    "    return text\n",
    "\n",
    "\n",
    "def clean_text(text):\n",
    "    text = text.lower()\n",
    "    text = remove_html_tags(text)\n",
    "    \n",
    "    return text"
   ]
  },
  {
   "cell_type": "code",
   "execution_count": null,
   "id": "a8b714c6",
   "metadata": {},
   "outputs": [],
   "source": []
  }
 ],
 "metadata": {
  "kernelspec": {
   "display_name": "Python 3",
   "language": "python",
   "name": "python3"
  },
  "language_info": {
   "codemirror_mode": {
    "name": "ipython",
    "version": 3
   },
   "file_extension": ".py",
   "mimetype": "text/x-python",
   "name": "python",
   "nbconvert_exporter": "python",
   "pygments_lexer": "ipython3",
   "version": "3.6.13"
  }
 },
 "nbformat": 4,
 "nbformat_minor": 5
}
